{
  "nbformat": 4,
  "nbformat_minor": 0,
  "metadata": {
    "colab": {
      "name": "pyspark.ipynb",
      "provenance": [],
      "authorship_tag": "ABX9TyP9AGWWqTifNMD1uIFx8DTo",
      "include_colab_link": true
    },
    "kernelspec": {
      "name": "python3",
      "display_name": "Python 3"
    },
    "language_info": {
      "name": "python"
    }
  },
  "cells": [
    {
      "cell_type": "markdown",
      "metadata": {
        "id": "view-in-github",
        "colab_type": "text"
      },
      "source": [
        "<a href=\"https://colab.research.google.com/github/ilkert08/pyspark/blob/main/pyspark.ipynb\" target=\"_parent\"><img src=\"https://colab.research.google.com/assets/colab-badge.svg\" alt=\"Open In Colab\"/></a>"
      ]
    },
    {
      "cell_type": "code",
      "metadata": {
        "id": "TDY9LsSMvjIS"
      },
      "source": [
        "!apt-get install openjdk-8-jdk-headless -qq > /dev/null\n",
        "!wget -q http://apache.osuosl.org/spark/spark-3.1.2/spark-3.1.2-bin-hadoop3.2.tgz\n",
        "!tar xf spark-3.1.2-bin-hadoop3.2.tgz\n",
        "!pip install -q findspark"
      ],
      "execution_count": 1,
      "outputs": []
    },
    {
      "cell_type": "code",
      "metadata": {
        "id": "eYShR3rgvtLg"
      },
      "source": [
        "import os\n",
        "os.environ[\"JAVA_HOME\"] = \"/usr/lib/jvm/java-8-openjdk-amd64\"\n",
        "os.environ[\"SPARK_HOME\"] = \"/content/spark-3.1.2-bin-hadoop3.2\""
      ],
      "execution_count": 2,
      "outputs": []
    },
    {
      "cell_type": "code",
      "metadata": {
        "id": "hiXKk7ncwMFs"
      },
      "source": [
        "import pandas as pd\n",
        "import numpy as np\n",
        "import findspark\n",
        "findspark.init()\n",
        "from pyspark.sql import SparkSession\n",
        "spark = SparkSession.builder.master(\"local[*]\").getOrCreate()"
      ],
      "execution_count": 3,
      "outputs": []
    },
    {
      "cell_type": "code",
      "metadata": {
        "colab": {
          "base_uri": "https://localhost:8080/",
          "height": 203
        },
        "id": "eH35n1ZpwMJE",
        "outputId": "69df4dca-cec7-4159-f29a-150bc6700f7d"
      },
      "source": [
        "from sklearn.datasets import load_iris\n",
        "data= load_iris()\n",
        "df = pd.DataFrame(data.data, columns=['sepalLength', 'sepalWidth', 'petalLength', 'petalWidth'])\n",
        "df.head()"
      ],
      "execution_count": null,
      "outputs": [
        {
          "output_type": "execute_result",
          "data": {
            "text/html": [
              "<div>\n",
              "<style scoped>\n",
              "    .dataframe tbody tr th:only-of-type {\n",
              "        vertical-align: middle;\n",
              "    }\n",
              "\n",
              "    .dataframe tbody tr th {\n",
              "        vertical-align: top;\n",
              "    }\n",
              "\n",
              "    .dataframe thead th {\n",
              "        text-align: right;\n",
              "    }\n",
              "</style>\n",
              "<table border=\"1\" class=\"dataframe\">\n",
              "  <thead>\n",
              "    <tr style=\"text-align: right;\">\n",
              "      <th></th>\n",
              "      <th>sepalLength</th>\n",
              "      <th>sepalWidth</th>\n",
              "      <th>petalLength</th>\n",
              "      <th>petalWidth</th>\n",
              "    </tr>\n",
              "  </thead>\n",
              "  <tbody>\n",
              "    <tr>\n",
              "      <th>0</th>\n",
              "      <td>5.1</td>\n",
              "      <td>3.5</td>\n",
              "      <td>1.4</td>\n",
              "      <td>0.2</td>\n",
              "    </tr>\n",
              "    <tr>\n",
              "      <th>1</th>\n",
              "      <td>4.9</td>\n",
              "      <td>3.0</td>\n",
              "      <td>1.4</td>\n",
              "      <td>0.2</td>\n",
              "    </tr>\n",
              "    <tr>\n",
              "      <th>2</th>\n",
              "      <td>4.7</td>\n",
              "      <td>3.2</td>\n",
              "      <td>1.3</td>\n",
              "      <td>0.2</td>\n",
              "    </tr>\n",
              "    <tr>\n",
              "      <th>3</th>\n",
              "      <td>4.6</td>\n",
              "      <td>3.1</td>\n",
              "      <td>1.5</td>\n",
              "      <td>0.2</td>\n",
              "    </tr>\n",
              "    <tr>\n",
              "      <th>4</th>\n",
              "      <td>5.0</td>\n",
              "      <td>3.6</td>\n",
              "      <td>1.4</td>\n",
              "      <td>0.2</td>\n",
              "    </tr>\n",
              "  </tbody>\n",
              "</table>\n",
              "</div>"
            ],
            "text/plain": [
              "   sepalLength  sepalWidth  petalLength  petalWidth\n",
              "0          5.1         3.5          1.4         0.2\n",
              "1          4.9         3.0          1.4         0.2\n",
              "2          4.7         3.2          1.3         0.2\n",
              "3          4.6         3.1          1.5         0.2\n",
              "4          5.0         3.6          1.4         0.2"
            ]
          },
          "metadata": {
            "tags": []
          },
          "execution_count": 73
        }
      ]
    },
    {
      "cell_type": "code",
      "metadata": {
        "colab": {
          "base_uri": "https://localhost:8080/"
        },
        "id": "JP1c9NDIwMMx",
        "outputId": "5e036ea1-7c6a-4445-e3f7-6eb5302e5484"
      },
      "source": [
        "spark = SparkSession.builder.appName(\"Python Spark SQL basic example\").config(\"spark.some.config.option\", \"some-value\").getOrCreate()\n",
        "sparkDF=spark.createDataFrame(df) \n",
        "sparkDF.printSchema()\n",
        "sparkDF.show()\n",
        "\n"
      ],
      "execution_count": null,
      "outputs": [
        {
          "output_type": "stream",
          "text": [
            "root\n",
            " |-- sepalLength: double (nullable = true)\n",
            " |-- sepalWidth: double (nullable = true)\n",
            " |-- petalLength: double (nullable = true)\n",
            " |-- petalWidth: double (nullable = true)\n",
            "\n",
            "+-----------+----------+-----------+----------+\n",
            "|sepalLength|sepalWidth|petalLength|petalWidth|\n",
            "+-----------+----------+-----------+----------+\n",
            "|        5.1|       3.5|        1.4|       0.2|\n",
            "|        4.9|       3.0|        1.4|       0.2|\n",
            "|        4.7|       3.2|        1.3|       0.2|\n",
            "|        4.6|       3.1|        1.5|       0.2|\n",
            "|        5.0|       3.6|        1.4|       0.2|\n",
            "|        5.4|       3.9|        1.7|       0.4|\n",
            "|        4.6|       3.4|        1.4|       0.3|\n",
            "|        5.0|       3.4|        1.5|       0.2|\n",
            "|        4.4|       2.9|        1.4|       0.2|\n",
            "|        4.9|       3.1|        1.5|       0.1|\n",
            "|        5.4|       3.7|        1.5|       0.2|\n",
            "|        4.8|       3.4|        1.6|       0.2|\n",
            "|        4.8|       3.0|        1.4|       0.1|\n",
            "|        4.3|       3.0|        1.1|       0.1|\n",
            "|        5.8|       4.0|        1.2|       0.2|\n",
            "|        5.7|       4.4|        1.5|       0.4|\n",
            "|        5.4|       3.9|        1.3|       0.4|\n",
            "|        5.1|       3.5|        1.4|       0.3|\n",
            "|        5.7|       3.8|        1.7|       0.3|\n",
            "|        5.1|       3.8|        1.5|       0.3|\n",
            "+-----------+----------+-----------+----------+\n",
            "only showing top 20 rows\n",
            "\n"
          ],
          "name": "stdout"
        }
      ]
    },
    {
      "cell_type": "code",
      "metadata": {
        "id": "WCzQt7l16jDF"
      },
      "source": [
        ""
      ],
      "execution_count": null,
      "outputs": []
    },
    {
      "cell_type": "code",
      "metadata": {
        "colab": {
          "base_uri": "https://localhost:8080/"
        },
        "id": "PK2k6utzwMP3",
        "outputId": "a2da5eba-9681-4501-a928-b90ad473100e"
      },
      "source": [
        "sparkDF.createOrReplaceTempView(\"iris\")\n",
        "query = \"select * from iris where sepalLength > 5;\"\n",
        "sqlDF = spark.sql(query)\n",
        "sqlDF.show()"
      ],
      "execution_count": null,
      "outputs": [
        {
          "output_type": "stream",
          "text": [
            "+-----------+----------+-----------+----------+\n",
            "|sepalLength|sepalWidth|petalLength|petalWidth|\n",
            "+-----------+----------+-----------+----------+\n",
            "|        5.1|       3.5|        1.4|       0.2|\n",
            "|        5.4|       3.9|        1.7|       0.4|\n",
            "|        5.4|       3.7|        1.5|       0.2|\n",
            "|        5.8|       4.0|        1.2|       0.2|\n",
            "|        5.7|       4.4|        1.5|       0.4|\n",
            "|        5.4|       3.9|        1.3|       0.4|\n",
            "|        5.1|       3.5|        1.4|       0.3|\n",
            "|        5.7|       3.8|        1.7|       0.3|\n",
            "|        5.1|       3.8|        1.5|       0.3|\n",
            "|        5.4|       3.4|        1.7|       0.2|\n",
            "|        5.1|       3.7|        1.5|       0.4|\n",
            "|        5.1|       3.3|        1.7|       0.5|\n",
            "|        5.2|       3.5|        1.5|       0.2|\n",
            "|        5.2|       3.4|        1.4|       0.2|\n",
            "|        5.4|       3.4|        1.5|       0.4|\n",
            "|        5.2|       4.1|        1.5|       0.1|\n",
            "|        5.5|       4.2|        1.4|       0.2|\n",
            "|        5.5|       3.5|        1.3|       0.2|\n",
            "|        5.1|       3.4|        1.5|       0.2|\n",
            "|        5.1|       3.8|        1.9|       0.4|\n",
            "+-----------+----------+-----------+----------+\n",
            "only showing top 20 rows\n",
            "\n"
          ],
          "name": "stdout"
        }
      ]
    },
    {
      "cell_type": "code",
      "metadata": {
        "colab": {
          "base_uri": "https://localhost:8080/"
        },
        "id": "5A6iYqx5wMSz",
        "outputId": "bd5c11a9-ce23-4bba-b342-e585402e1006"
      },
      "source": [
        "data2 = sparkDF.groupBy('sepalLength').count().orderBy('count', ascending = True)\n",
        "data2.collect()"
      ],
      "execution_count": null,
      "outputs": [
        {
          "output_type": "execute_result",
          "data": {
            "text/plain": [
              "[Row(sepalLength=7.0, count=1),\n",
              " Row(sepalLength=4.5, count=1),\n",
              " Row(sepalLength=7.4, count=1),\n",
              " Row(sepalLength=7.3, count=1),\n",
              " Row(sepalLength=4.3, count=1),\n",
              " Row(sepalLength=7.9, count=1),\n",
              " Row(sepalLength=5.3, count=1),\n",
              " Row(sepalLength=7.6, count=1),\n",
              " Row(sepalLength=7.1, count=1),\n",
              " Row(sepalLength=6.6, count=2),\n",
              " Row(sepalLength=4.7, count=2),\n",
              " Row(sepalLength=7.2, count=3),\n",
              " Row(sepalLength=6.8, count=3),\n",
              " Row(sepalLength=4.4, count=3),\n",
              " Row(sepalLength=5.9, count=3),\n",
              " Row(sepalLength=7.7, count=4),\n",
              " Row(sepalLength=6.2, count=4),\n",
              " Row(sepalLength=6.9, count=4),\n",
              " Row(sepalLength=5.2, count=4),\n",
              " Row(sepalLength=4.6, count=4),\n",
              " Row(sepalLength=6.5, count=5),\n",
              " Row(sepalLength=4.8, count=5),\n",
              " Row(sepalLength=5.4, count=6),\n",
              " Row(sepalLength=6.1, count=6),\n",
              " Row(sepalLength=4.9, count=6),\n",
              " Row(sepalLength=6.0, count=6),\n",
              " Row(sepalLength=5.6, count=6),\n",
              " Row(sepalLength=6.4, count=7),\n",
              " Row(sepalLength=5.8, count=7),\n",
              " Row(sepalLength=5.5, count=7),\n",
              " Row(sepalLength=5.7, count=8),\n",
              " Row(sepalLength=6.7, count=8),\n",
              " Row(sepalLength=5.1, count=9),\n",
              " Row(sepalLength=6.3, count=9),\n",
              " Row(sepalLength=5.0, count=10)]"
            ]
          },
          "metadata": {
            "tags": []
          },
          "execution_count": 80
        }
      ]
    }
  ]
}